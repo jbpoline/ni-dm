{
 "metadata": {
  "name": "",
  "signature": "sha256:55e544ff58971d7e85eeb7dda2f3402558d9cbedb1b2642735be02c593013475"
 },
 "nbformat": 3,
 "nbformat_minor": 0,
 "worksheets": [
  {
   "cells": [
    {
     "cell_type": "code",
     "collapsed": false,
     "input": [
      "import nibabel as nib\n",
      "from xml.dom.minidom import parse\n",
      "import xml.dom.minidom\n",
      "import urllib2\n",
      "import prov.model as prov\n",
      "from uuid import uuid1\n",
      "import numpy as np"
     ],
     "language": "python",
     "metadata": {},
     "outputs": [],
     "prompt_number": 1,
     "trusted": true
    },
    {
     "cell_type": "code",
     "collapsed": false,
     "input": [
      "nidm = prov.Namespace('nidm', 'http://incf.org/ns/nidash/nidm#')\n",
      "nidm['NiftHeader']"
     ],
     "language": "python",
     "metadata": {},
     "outputs": [
      {
       "metadata": {},
       "output_type": "pyout",
       "prompt_number": 83,
       "text": [
        "<prov.model.QName at 0x469a590>"
       ]
      }
     ],
     "prompt_number": 83,
     "trusted": true
    },
    {
     "cell_type": "code",
     "collapsed": false,
     "input": [
      "# print prov.__file__"
     ],
     "language": "python",
     "metadata": {},
     "outputs": [],
     "prompt_number": 5,
     "trusted": true
    },
    {
     "cell_type": "code",
     "collapsed": false,
     "input": [
      "filename='/home/jb/data/ds105/sub001/anatomy/highres001_brain_mask.nii.gz'\n",
      "print filename"
     ],
     "language": "python",
     "metadata": {},
     "outputs": [
      {
       "output_type": "stream",
       "stream": "stdout",
       "text": [
        "/home/jb/data/ds105/sub001/anatomy/highres001_brain_mask.nii.gz\n"
       ]
      }
     ],
     "prompt_number": 9,
     "trusted": true
    },
    {
     "cell_type": "code",
     "collapsed": false,
     "input": [
      "img = nib.load(filename)"
     ],
     "language": "python",
     "metadata": {},
     "outputs": [],
     "prompt_number": 10,
     "trusted": true
    },
    {
     "cell_type": "code",
     "collapsed": false,
     "input": [
      "hdr =  img.get_header()"
     ],
     "language": "python",
     "metadata": {},
     "outputs": [],
     "prompt_number": 12,
     "trusted": true
    },
    {
     "cell_type": "code",
     "collapsed": false,
     "input": [
      "hdr = img.get_header()\n",
      "d = {k:v for k,v in hdr.items()}"
     ],
     "language": "python",
     "metadata": {},
     "outputs": [],
     "prompt_number": 14,
     "trusted": true
    },
    {
     "cell_type": "code",
     "collapsed": false,
     "input": [
      "d\n",
      "\n"
     ],
     "language": "python",
     "metadata": {},
     "outputs": [
      {
       "metadata": {},
       "output_type": "pyout",
       "prompt_number": 34,
       "text": [
        "{'aux_file': array('', \n",
        "       dtype='|S24'),\n",
        " 'bitpix': array(32, dtype=int16),\n",
        " 'cal_max': array(0.0, dtype=float32),\n",
        " 'cal_min': array(0.0, dtype=float32),\n",
        " 'data_type': array('', \n",
        "       dtype='|S10'),\n",
        " 'datatype': array(16, dtype=int16),\n",
        " 'db_name': array('', \n",
        "       dtype='|S18'),\n",
        " 'descrip': array('FSL4.0', \n",
        "       dtype='|S80'),\n",
        " 'dim': array([  3, 124, 256, 256,   1,   1,   1,   1], dtype=int16),\n",
        " 'dim_info': array(0, dtype=uint8),\n",
        " 'extents': array(0, dtype=int32),\n",
        " 'glmax': array(0, dtype=int32),\n",
        " 'glmin': array(0, dtype=int32),\n",
        " 'intent_code': array(0, dtype=int16),\n",
        " 'intent_name': array('', \n",
        "       dtype='|S16'),\n",
        " 'intent_p1': array(0.0, dtype=float32),\n",
        " 'intent_p2': array(0.0, dtype=float32),\n",
        " 'intent_p3': array(0.0, dtype=float32),\n",
        " 'magic': array('n+1', \n",
        "       dtype='|S4'),\n",
        " 'pixdim': array([-1.        ,  1.20000005,  0.9375    ,  0.9375    ,  1.        ,\n",
        "         0.        ,  0.        ,  0.        ], dtype=float32),\n",
        " 'qform_code': array(4, dtype=int16),\n",
        " 'qoffset_x': array(94.4498062133789, dtype=float32),\n",
        " 'qoffset_y': array(-167.5032958984375, dtype=float32),\n",
        " 'qoffset_z': array(-96.48294830322266, dtype=float32),\n",
        " 'quatern_b': array(-0.015123838558793068, dtype=float32),\n",
        " 'quatern_c': array(0.991762638092041, dtype=float32),\n",
        " 'quatern_d': array(-0.12565921247005463, dtype=float32),\n",
        " 'regular': array('r', \n",
        "       dtype='|S1'),\n",
        " 'scl_inter': array(0.0, dtype=float32),\n",
        " 'scl_slope': array(1.0, dtype=float32),\n",
        " 'session_error': array(0, dtype=int16),\n",
        " 'sform_code': array(4, dtype=int16),\n",
        " 'sizeof_hdr': array(348, dtype=int32),\n",
        " 'slice_code': array(0, dtype=uint8),\n",
        " 'slice_duration': array(0.0, dtype=float32),\n",
        " 'slice_end': array(0, dtype=int16),\n",
        " 'slice_start': array(0, dtype=int16),\n",
        " 'srow_x': array([ -1.36807847e+00,  -2.48934887e-02,  -4.57396023e-02,\n",
        "          9.44498062e+01], dtype=float32),\n",
        " 'srow_y': array([ -4.85529304e-02,   1.00329351e+00,   2.52778828e-01,\n",
        "         -1.67503296e+02], dtype=float32),\n",
        " 'srow_z': array([ -4.82837781e-02,  -2.74913728e-01,   1.04817641e+00,\n",
        "         -9.64829483e+01], dtype=float32),\n",
        " 'toffset': array(0.0, dtype=float32),\n",
        " 'vox_offset': array(352.0, dtype=float32),\n",
        " 'xyzt_units': array(10, dtype=uint8)}"
       ]
      }
     ],
     "prompt_number": 34,
     "trusted": true
    },
    {
     "cell_type": "code",
     "collapsed": false,
     "input": [
      "d['xyzt_units']"
     ],
     "language": "python",
     "metadata": {},
     "outputs": [
      {
       "metadata": {},
       "output_type": "pyout",
       "prompt_number": 21,
       "text": [
        "array(10, dtype=uint8)"
       ]
      }
     ],
     "prompt_number": 21,
     "trusted": true
    },
    {
     "cell_type": "code",
     "collapsed": false,
     "input": [
      "b = prov.ProvBundle()"
     ],
     "language": "python",
     "metadata": {},
     "outputs": [],
     "prompt_number": 23,
     "trusted": true
    },
    {
     "cell_type": "code",
     "collapsed": false,
     "input": [
      "nifti = prov.Namespace(\"nifti\", \"http://www.incf.org/ns/nidash/nifti#\")\n",
      "# URI = prov.Identifier(nifti) \n",
      "b_entity = b.entity(nifti, other_attributes=[(list,tuple)])"
     ],
     "language": "python",
     "metadata": {},
     "outputs": [],
     "prompt_number": 38,
     "trusted": true
    },
    {
     "cell_type": "code",
     "collapsed": false,
     "input": [
      "b_entity"
     ],
     "language": "python",
     "metadata": {},
     "outputs": [
      {
       "metadata": {},
       "output_type": "pyout",
       "prompt_number": 39,
       "text": [
        "<prov.model.ProvEntity at 0x46bf810>"
       ]
      }
     ],
     "prompt_number": 39,
     "trusted": true
    },
    {
     "cell_type": "code",
     "collapsed": false,
     "input": [
      "nifti['slice_duration']\n",
      "foo = nifti['slice_duration']"
     ],
     "language": "python",
     "metadata": {},
     "outputs": [],
     "prompt_number": 62,
     "trusted": true
    },
    {
     "cell_type": "code",
     "collapsed": false,
     "input": [
      "foo.get_uri()"
     ],
     "language": "python",
     "metadata": {},
     "outputs": [
      {
       "metadata": {},
       "output_type": "pyout",
       "prompt_number": 63,
       "text": [
        "'http://www.incf.org/ns/nidash/nifti#slice_duration'"
       ]
      }
     ],
     "prompt_number": 63,
     "trusted": true
    },
    {
     "cell_type": "code",
     "collapsed": false,
     "input": [
      "nifti.get_uri()"
     ],
     "language": "python",
     "metadata": {},
     "outputs": [
      {
       "metadata": {},
       "output_type": "pyout",
       "prompt_number": 64,
       "text": [
        "'http://www.incf.org/ns/nidash/nifti#'"
       ]
      }
     ],
     "prompt_number": 64,
     "trusted": true
    },
    {
     "cell_type": "code",
     "collapsed": false,
     "input": [
      "attrs = np.asarray([nifti['slice_duration'], int(d['slice_duration'])]).tolist()"
     ],
     "language": "python",
     "metadata": {},
     "outputs": [],
     "prompt_number": 70,
     "trusted": true
    },
    {
     "cell_type": "code",
     "collapsed": false,
     "input": [
      "print attrs\n",
      "d['slice_duration']"
     ],
     "language": "python",
     "metadata": {},
     "outputs": [
      {
       "output_type": "stream",
       "stream": "stdout",
       "text": [
        "[<prov.model.QName object at 0x46bfa50>, 0]\n"
       ]
      },
      {
       "metadata": {},
       "output_type": "pyout",
       "prompt_number": 71,
       "text": [
        "array(0.0, dtype=float32)"
       ]
      }
     ],
     "prompt_number": 71,
     "trusted": true
    },
    {
     "cell_type": "code",
     "collapsed": false,
     "input": [
      "attrs = [(nifti[k], v.tolist()) for k,v in d.iteritems()]"
     ],
     "language": "python",
     "metadata": {},
     "outputs": [],
     "prompt_number": 90,
     "trusted": true
    },
    {
     "cell_type": "code",
     "collapsed": false,
     "input": [
      "b_entity = b.entity(nifti, other_attributes=attrs)"
     ],
     "language": "python",
     "metadata": {},
     "outputs": [],
     "prompt_number": 91,
     "trusted": true
    },
    {
     "cell_type": "code",
     "collapsed": false,
     "input": [
      "print b_entity.get_provn()"
     ],
     "language": "python",
     "metadata": {},
     "outputs": [
      {
       "output_type": "stream",
       "stream": "stdout",
       "text": [
        "entity([nifti:session_error=0, nifti:extents=0, nifti:sizeof_hdr=348, nifti:srow_x=[-1.3680784702301025, -0.024893488734960556, -0.04573960229754448, 94.4498062133789], nifti:srow_y=[-0.04855293035507202, 1.003293514251709, 0.2527788281440735, -167.5032958984375], nifti:pixdim=[-1.0, 1.2000000476837158, 0.9375, 0.9375, 1.0, 0.0, 0.0, 0.0], nifti:slice_start=0, nifti:intent_p1=\"0.000000\" %% xsd:float, nifti:cal_max=\"0.000000\" %% xsd:float, nifti:xyzt_units=10, nifti:intent_p2=\"0.000000\" %% xsd:float, nifti:intent_p3=\"0.000000\" %% xsd:float, nifti:qoffset_x=\"94.449806\" %% xsd:float, nifti:intent_code=0, nifti:qoffset_z=\"-96.482948\" %% xsd:float, nifti:sform_code=4, nifti:cal_min=\"0.000000\" %% xsd:float, nifti:scl_slope=\"1.000000\" %% xsd:float, nifti:slice_code=0, nifti:slice_duration=\"0.000000\" %% xsd:float, nifti:quatern_b=\"-0.015124\" %% xsd:float, nifti:vox_offset=\"352.000000\" %% xsd:float, nifti:bitpix=32, nifti:descrip=\"FSL4.0\", nifti:glmin=0, nifti:dim_info=0, nifti:glmax=0, nifti:quatern_c=\"0.991763\" %% xsd:float, nifti:data_type=\"\", nifti:aux_file=\"\", nifti:intent_name=\"\", nifti:srow_z=[-0.04828377813100815, -0.2749137282371521, 1.0481764078140259, -96.48294830322266], nifti:db_name=\"\", nifti:scl_inter=\"0.000000\" %% xsd:float, nifti:quatern_d=\"-0.125659\" %% xsd:float, nifti:dim=[3, 124, 256, 256, 1, 1, 1, 1], nifti:magic=\"n+1\", nifti:datatype=16, nifti:regular=\"r\", nifti:slice_end=0, nifti:qform_code=4, nifti:qoffset_y=\"-167.503296\" %% xsd:float, nifti:toffset=\"0.000000\" %% xsd:float])\n"
       ]
      }
     ],
     "prompt_number": 92,
     "trusted": true
    },
    {
     "cell_type": "code",
     "collapsed": false,
     "input": [
      "print attrs\n"
     ],
     "language": "python",
     "metadata": {},
     "outputs": [
      {
       "output_type": "stream",
       "stream": "stdout",
       "text": [
        "[(<prov.model.QName object at 0x46f4850>, 0), (<prov.model.QName object at 0x46f4890>, 0), (<prov.model.QName object at 0x46f48d0>, 348), (<prov.model.QName object at 0x46f4910>, [-1.3680784702301025, -0.024893488734960556, -0.04573960229754448, 94.4498062133789]), (<prov.model.QName object at 0x46f4950>, [-0.04855293035507202, 1.003293514251709, 0.2527788281440735, -167.5032958984375]), (<prov.model.QName object at 0x46f4990>, [-1.0, 1.2000000476837158, 0.9375, 0.9375, 1.0, 0.0, 0.0, 0.0]), (<prov.model.QName object at 0x46f49d0>, 0), (<prov.model.QName object at 0x46f4a10>, 0.0), (<prov.model.QName object at 0x46f4a50>, 0.0), (<prov.model.QName object at 0x46f4a90>, 10), (<prov.model.QName object at 0x46f4ad0>, 0.0), (<prov.model.QName object at 0x46f4b10>, 0.0), (<prov.model.QName object at 0x46f4250>, 94.4498062133789), (<prov.model.QName object at 0x46f42d0>, 0), (<prov.model.QName object at 0x46f4b50>, -96.48294830322266), (<prov.model.QName object at 0x46f4b90>, 4), (<prov.model.QName object at 0x46f4bd0>, 0.0), (<prov.model.QName object at 0x46f4c10>, 1.0), (<prov.model.QName object at 0x46f4c50>, 0), (<prov.model.QName object at 0x46bfa50>, 0.0), (<prov.model.QName object at 0x46f4c90>, -0.015123838558793068), (<prov.model.QName object at 0x46f4cd0>, 352.0), (<prov.model.QName object at 0x46f4d10>, 32), (<prov.model.QName object at 0x46f4d50>, 'FSL4.0'), (<prov.model.QName object at 0x46f4d90>, 0), (<prov.model.QName object at 0x46f4dd0>, 0), (<prov.model.QName object at 0x46f4e10>, 0), (<prov.model.QName object at 0x46f4e50>, 0.991762638092041), (<prov.model.QName object at 0x46f4e90>, ''), (<prov.model.QName object at 0x46f4ed0>, ''), (<prov.model.QName object at 0x46f4f10>, ''), (<prov.model.QName object at 0x46f4f50>, [-0.04828377813100815, -0.2749137282371521, 1.0481764078140259, -96.48294830322266]), (<prov.model.QName object at 0x46f4f90>, ''), (<prov.model.QName object at 0x46f4fd0>, 0.0), (<prov.model.QName object at 0x46fb050>, -0.12565921247005463), (<prov.model.QName object at 0x46fb090>, [3, 124, 256, 256, 1, 1, 1, 1]), (<prov.model.QName object at 0x46fb0d0>, 'n+1'), (<prov.model.QName object at 0x46fb110>, 16), (<prov.model.QName object at 0x46fb150>, 'r'), (<prov.model.QName object at 0x46fb190>, 0), (<prov.model.QName object at 0x46fb1d0>, 4), (<prov.model.QName object at 0x46fb210>, -167.5032958984375), (<prov.model.QName object at 0x46fb250>, 0.0)]\n"
       ]
      }
     ],
     "prompt_number": 93,
     "trusted": true
    },
    {
     "cell_type": "code",
     "collapsed": false,
     "input": [
      "attrs.append((prov.PROV['type'],nidm['NiftHeader']))"
     ],
     "language": "python",
     "metadata": {},
     "outputs": [],
     "prompt_number": 94,
     "trusted": true
    },
    {
     "cell_type": "code",
     "collapsed": false,
     "input": [
      "print attrs"
     ],
     "language": "python",
     "metadata": {},
     "outputs": [
      {
       "output_type": "stream",
       "stream": "stdout",
       "text": [
        "[(<prov.model.QName object at 0x46f4850>, 0), (<prov.model.QName object at 0x46f4890>, 0), (<prov.model.QName object at 0x46f48d0>, 348), (<prov.model.QName object at 0x46f4910>, [-1.3680784702301025, -0.024893488734960556, -0.04573960229754448, 94.4498062133789]), (<prov.model.QName object at 0x46f4950>, [-0.04855293035507202, 1.003293514251709, 0.2527788281440735, -167.5032958984375]), (<prov.model.QName object at 0x46f4990>, [-1.0, 1.2000000476837158, 0.9375, 0.9375, 1.0, 0.0, 0.0, 0.0]), (<prov.model.QName object at 0x46f49d0>, 0), (<prov.model.QName object at 0x46f4a10>, 0.0), (<prov.model.QName object at 0x46f4a50>, 0.0), (<prov.model.QName object at 0x46f4a90>, 10), (<prov.model.QName object at 0x46f4ad0>, 0.0), (<prov.model.QName object at 0x46f4b10>, 0.0), (<prov.model.QName object at 0x46f4250>, 94.4498062133789), (<prov.model.QName object at 0x46f42d0>, 0), (<prov.model.QName object at 0x46f4b50>, -96.48294830322266), (<prov.model.QName object at 0x46f4b90>, 4), (<prov.model.QName object at 0x46f4bd0>, 0.0), (<prov.model.QName object at 0x46f4c10>, 1.0), (<prov.model.QName object at 0x46f4c50>, 0), (<prov.model.QName object at 0x46bfa50>, 0.0), (<prov.model.QName object at 0x46f4c90>, -0.015123838558793068), (<prov.model.QName object at 0x46f4cd0>, 352.0), (<prov.model.QName object at 0x46f4d10>, 32), (<prov.model.QName object at 0x46f4d50>, 'FSL4.0'), (<prov.model.QName object at 0x46f4d90>, 0), (<prov.model.QName object at 0x46f4dd0>, 0), (<prov.model.QName object at 0x46f4e10>, 0), (<prov.model.QName object at 0x46f4e50>, 0.991762638092041), (<prov.model.QName object at 0x46f4e90>, ''), (<prov.model.QName object at 0x46f4ed0>, ''), (<prov.model.QName object at 0x46f4f10>, ''), (<prov.model.QName object at 0x46f4f50>, [-0.04828377813100815, -0.2749137282371521, 1.0481764078140259, -96.48294830322266]), (<prov.model.QName object at 0x46f4f90>, ''), (<prov.model.QName object at 0x46f4fd0>, 0.0), (<prov.model.QName object at 0x46fb050>, -0.12565921247005463), (<prov.model.QName object at 0x46fb090>, [3, 124, 256, 256, 1, 1, 1, 1]), (<prov.model.QName object at 0x46fb0d0>, 'n+1'), (<prov.model.QName object at 0x46fb110>, 16), (<prov.model.QName object at 0x46fb150>, 'r'), (<prov.model.QName object at 0x46fb190>, 0), (<prov.model.QName object at 0x46fb1d0>, 4), (<prov.model.QName object at 0x46fb210>, -167.5032958984375), (<prov.model.QName object at 0x46fb250>, 0.0), (<prov.model.QName object at 0x46f4610>, <prov.model.QName object at 0x469a590>)]\n"
       ]
      }
     ],
     "prompt_number": 96,
     "trusted": true
    },
    {
     "cell_type": "code",
     "collapsed": false,
     "input": [],
     "language": "python",
     "metadata": {},
     "outputs": [],
     "trusted": true
    },
    {
     "cell_type": "code",
     "collapsed": false,
     "input": [
      "b_entity = b.entity(nifti, other_attributes=attrs)"
     ],
     "language": "python",
     "metadata": {},
     "outputs": [],
     "prompt_number": 97,
     "trusted": true
    },
    {
     "cell_type": "code",
     "collapsed": false,
     "input": [
      "print b_entity.get_provn()"
     ],
     "language": "python",
     "metadata": {},
     "outputs": [
      {
       "output_type": "stream",
       "stream": "stdout",
       "text": [
        "entity([nifti:session_error=0, nifti:extents=0, nifti:sizeof_hdr=348, nifti:srow_x=[-1.3680784702301025, -0.024893488734960556, -0.04573960229754448, 94.4498062133789], nifti:srow_y=[-0.04855293035507202, 1.003293514251709, 0.2527788281440735, -167.5032958984375], nifti:pixdim=[-1.0, 1.2000000476837158, 0.9375, 0.9375, 1.0, 0.0, 0.0, 0.0], nifti:slice_start=0, nifti:intent_p1=\"0.000000\" %% xsd:float, nifti:cal_max=\"0.000000\" %% xsd:float, nifti:xyzt_units=10, nifti:intent_p2=\"0.000000\" %% xsd:float, nifti:intent_p3=\"0.000000\" %% xsd:float, nifti:qoffset_x=\"94.449806\" %% xsd:float, nifti:intent_code=0, nifti:qoffset_z=\"-96.482948\" %% xsd:float, nifti:sform_code=4, nifti:cal_min=\"0.000000\" %% xsd:float, nifti:scl_slope=\"1.000000\" %% xsd:float, nifti:slice_code=0, nifti:slice_duration=\"0.000000\" %% xsd:float, nifti:quatern_b=\"-0.015124\" %% xsd:float, nifti:vox_offset=\"352.000000\" %% xsd:float, nifti:bitpix=32, nifti:descrip=\"FSL4.0\", nifti:glmin=0, nifti:dim_info=0, nifti:glmax=0, nifti:quatern_c=\"0.991763\" %% xsd:float, nifti:data_type=\"\", nifti:aux_file=\"\", nifti:intent_name=\"\", nifti:srow_z=[-0.04828377813100815, -0.2749137282371521, 1.0481764078140259, -96.48294830322266], nifti:db_name=\"\", nifti:scl_inter=\"0.000000\" %% xsd:float, nifti:quatern_d=\"-0.125659\" %% xsd:float, nifti:dim=[3, 124, 256, 256, 1, 1, 1, 1], nifti:magic=\"n+1\", nifti:datatype=16, nifti:regular=\"r\", nifti:slice_end=0, nifti:qform_code=4, nifti:qoffset_y=\"-167.503296\" %% xsd:float, nifti:toffset=\"0.000000\" %% xsd:float, prov:type='nidm:NiftHeader'])\n"
       ]
      }
     ],
     "prompt_number": 98,
     "trusted": true
    },
    {
     "cell_type": "code",
     "collapsed": false,
     "input": [
      "prov.PROV['type']\n"
     ],
     "language": "python",
     "metadata": {},
     "outputs": [
      {
       "metadata": {},
       "output_type": "pyout",
       "prompt_number": 81,
       "text": [
        "<prov.model.QName at 0x46f4610>"
       ]
      }
     ],
     "prompt_number": 81,
     "trusted": true
    },
    {
     "cell_type": "code",
     "collapsed": false,
     "input": [
      "nidm:NiftiHeader\n",
      "prov:type nidm:NiftiHeader\n",
      "prov.PROV['type']\n",
      "b.rdf().serialize(format='turtle')"
     ],
     "language": "python",
     "metadata": {},
     "outputs": [],
     "trusted": true
    }
   ],
   "metadata": {}
  }
 ]
}