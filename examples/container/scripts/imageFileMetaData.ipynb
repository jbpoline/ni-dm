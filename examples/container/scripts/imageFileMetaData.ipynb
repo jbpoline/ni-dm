{
 "metadata": {
  "name": "",
  "signature": "sha256:7191d070fdffc25cad0546ff8cc4e469bb9a9bf01a24c9cba47e8cb1bd0c8593"
 },
 "nbformat": 3,
 "nbformat_minor": 0,
 "worksheets": [
  {
   "cells": [
    {
     "cell_type": "code",
     "collapsed": false,
     "input": [
      "import nibabel as nib\n",
      "from xml.dom.minidom import parse\n",
      "import xml.dom.minidom\n",
      "import urllib2\n",
      "import prov.model as prov\n",
      "from uuid import uuid1"
     ],
     "language": "python",
     "metadata": {},
     "outputs": [],
     "prompt_number": 1,
     "trusted": true
    },
    {
     "cell_type": "code",
     "collapsed": false,
     "input": [
      "# print prov.__file__"
     ],
     "language": "python",
     "metadata": {},
     "outputs": [],
     "prompt_number": 5,
     "trusted": true
    },
    {
     "cell_type": "code",
     "collapsed": false,
     "input": [],
     "language": "python",
     "metadata": {},
     "outputs": [],
     "trusted": true
    }
   ],
   "metadata": {}
  }
 ]
}